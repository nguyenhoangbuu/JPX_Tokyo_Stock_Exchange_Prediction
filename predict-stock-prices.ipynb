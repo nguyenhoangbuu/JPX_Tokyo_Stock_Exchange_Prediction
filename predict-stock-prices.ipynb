{
 "cells": [
  {
   "cell_type": "code",
   "execution_count": null,
   "metadata": {
    "_cell_guid": "b1076dfc-b9ad-4769-8c92-a6c4dae69d19",
    "_uuid": "8f2839f25d086af736a60e9eeb907d3b93b6e0e5",
    "execution": {
     "iopub.execute_input": "2022-07-08T10:00:25.209105Z",
     "iopub.status.busy": "2022-07-08T10:00:25.208692Z",
     "iopub.status.idle": "2022-07-08T10:00:25.26591Z",
     "shell.execute_reply": "2022-07-08T10:00:25.265177Z",
     "shell.execute_reply.started": "2022-07-08T10:00:25.20903Z"
    }
   },
   "outputs": [],
   "source": [
    "# This Python 3 environment comes with many helpful analytics libraries installed\n",
    "# It is defined by the kaggle/python Docker image: https://github.com/kaggle/docker-python\n",
    "# For example, here's several helpful packages to load\n",
    "%time\n",
    "import numpy as np # linear algebra\n",
    "import pandas as pd # data processing, CSV file I/O (e.g. pd.read_csv)\n",
    "\n",
    "# Input data files are available in the read-only \"../input/\" directory\n",
    "# For example, running this (by clicking run or pressing Shift+Enter) will list all files under the input directory\n",
    "\n",
    "import os\n",
    "for dirname, _, filenames in os.walk('/kaggle/input'):\n",
    "    for filename in filenames:\n",
    "        print(os.path.join(dirname, filename))\n",
    "\n",
    "# You can write up to 20GB to the current directory (/kaggle/working/) that gets preserved as output when you create a version using \"Save & Run All\" \n",
    "# You can also write temporary files to /kaggle/temp/, but they won't be saved outside of the current session"
   ]
  },
  {
   "cell_type": "markdown",
   "metadata": {},
   "source": [
    " # ** Tổng quan dự án :**\n",
    " - Thành công trong bất kỳ thị trường tài chính nào cũng đòi hỏi người ta phải xác định được các khoản đầu tư vững chắc.\n",
    " - Khi một cổ phiếu hoặc chứng khoán phái sinh bị định giá thấp, bạn nên mua. Ngược lại, nếu nó được đánh giá quá cao, có lẽ đã đến lúc bán.\n",
    " - Trong khi các nhận định tài chính trước đây được các chuyên gia đưa ra một các thủ công, công nghệ đã mở ra cơ hội cho các nhà đầu tư. Đặc biệt, các nhà khoa học dữ liệu có thể quan tâm đến việc khám phá giao dịch định lượng, nơi các quyết định được thực hiện dựa theo các dự đoán từ các mô hình được đào tạo."
   ]
  },
  {
   "cell_type": "markdown",
   "metadata": {},
   "source": [
    "# **Các bước cơ bản:**\n",
    "- Load dữ liệu và xây dựng mô hình cơ sở ARIMA.\n",
    "- Xử lý dữ liệu và xây dựng các mô hình LightGBMRegressor. So sánh và đánh giá chất lượng các mô hình.\n",
    "- Kiểm tra và đánh giá dựa trên API bắt buộc của cuộc thi."
   ]
  },
  {
   "cell_type": "markdown",
   "metadata": {},
   "source": [
    "# ** Các chỉ số**:\n",
    "- Chỉ số chất lượng: mean_squared_error\n",
    "- Chỉ số RSI\n",
    "- Chỉ số VWAP và EMA"
   ]
  },
  {
   "cell_type": "markdown",
   "metadata": {},
   "source": [
    "# **1 Load dữ liệu**"
   ]
  },
  {
   "cell_type": "code",
   "execution_count": null,
   "metadata": {
    "execution": {
     "iopub.execute_input": "2022-07-08T10:00:37.575876Z",
     "iopub.status.busy": "2022-07-08T10:00:37.575382Z",
     "iopub.status.idle": "2022-07-08T10:00:42.845402Z",
     "shell.execute_reply": "2022-07-08T10:00:42.844633Z",
     "shell.execute_reply.started": "2022-07-08T10:00:37.575843Z"
    }
   },
   "outputs": [],
   "source": [
    "import seaborn as sns\n",
    "import matplotlib.pyplot as plt\n",
    "from sklearn.metrics import mean_squared_error,mean_absolute_error\n",
    "from lightgbm import LGBMRegressor\n",
    "from tqdm import tqdm\n",
    "from plotly.subplots import make_subplots\n",
    "import plotly.graph_objects as go\n",
    "import warnings, gc\n",
    "import plotly.figure_factory as ff\n",
    "from sklearn.model_selection import TimeSeriesSplit\n",
    "import statsmodels.api as sm\n",
    "\n",
    "\n",
    "from plotly.offline import init_notebook_mode\n",
    "warnings.simplefilter('ignore')\n",
    "pd.set_option('max_column', None)\n",
    "sns.set_style(\"darkgrid\")\n",
    "colors = sns.color_palette('Set2')\n",
    "\n",
    "init_notebook_mode(connected=True)\n",
    "temp = dict(layout=go.Layout(font=dict(family=\"Franklin Gothic\", size=12), width=800))"
   ]
  },
  {
   "cell_type": "markdown",
   "metadata": {},
   "source": [
    "# **1.1 Viết các hàm cần thiết để tính toán và xếp hạng cổ phiếu**"
   ]
  },
  {
   "cell_type": "code",
   "execution_count": null,
   "metadata": {
    "execution": {
     "iopub.execute_input": "2022-07-08T10:01:19.993106Z",
     "iopub.status.busy": "2022-07-08T10:01:19.99251Z",
     "iopub.status.idle": "2022-07-08T10:01:20.006851Z",
     "shell.execute_reply": "2022-07-08T10:01:20.005842Z",
     "shell.execute_reply.started": "2022-07-08T10:01:19.993061Z"
    }
   },
   "outputs": [],
   "source": [
    "def calc_spread_return_per_day(df, portfolio_size, toprank_weight_ratio):\n",
    "    weights = np.linspace(start=toprank_weight_ratio, stop=1, num=portfolio_size)\n",
    "    weights_mean = weights.mean()\n",
    "    df = df.sort_values(by='Rank')\n",
    "    purchase = (df['Target'][:portfolio_size]  * weights).sum() / weights_mean\n",
    "    short    = (df['Target'][-portfolio_size:] * weights[::-1]).sum() / weights_mean\n",
    "    return purchase - short\n",
    "\n",
    "def calc_spread_return_sharpe(df, portfolio_size=200, toprank_weight_ratio=2):\n",
    "    grp = df.groupby('Date')\n",
    "    min_size = grp[\"Target\"].count().min()\n",
    "    if min_size<2*portfolio_size:\n",
    "        portfolio_size=min_size//2\n",
    "        if portfolio_size<1:\n",
    "            return 0, None\n",
    "    buf = grp.apply(calc_spread_return_per_day, portfolio_size, toprank_weight_ratio)\n",
    "    sharpe_ratio = buf.mean() / buf.std()\n",
    "    return sharpe_ratio\n",
    "\n",
    "def add_rank(df, col_name=\"pred\"):\n",
    "    df[\"Rank\"] = df.groupby(\"Date\")[col_name].rank(ascending=False, method=\"first\") - 1 \n",
    "    df[\"Rank\"] = df[\"Rank\"].astype(\"int\")\n",
    "    return df"
   ]
  },
  {
   "cell_type": "markdown",
   "metadata": {},
   "source": [
    "# **1.2 Load dữ liệu cần thiết**"
   ]
  },
  {
   "cell_type": "code",
   "execution_count": null,
   "metadata": {
    "execution": {
     "iopub.execute_input": "2022-07-08T10:01:23.482135Z",
     "iopub.status.busy": "2022-07-08T10:01:23.481241Z",
     "iopub.status.idle": "2022-07-08T10:01:39.144746Z",
     "shell.execute_reply": "2022-07-08T10:01:39.143749Z",
     "shell.execute_reply.started": "2022-07-08T10:01:23.482091Z"
    }
   },
   "outputs": [],
   "source": [
    "train_df = pd.read_csv(\"../input/jpx-tokyo-stock-exchange-prediction/train_files/stock_prices.csv\")\n",
    "df2 = pd.read_csv(\"../input/jpx-tokyo-stock-exchange-prediction/train_files/secondary_stock_prices.csv\")\n",
    "supplemental_df = pd.read_csv(\"../input/jpx-tokyo-stock-exchange-prediction/supplemental_files/stock_prices.csv\")\n",
    "supplemental_df2 = pd.read_csv(\"../input/jpx-tokyo-stock-exchange-prediction/supplemental_files/secondary_stock_prices.csv\")\n",
    "testprices = pd.read_csv(\"../input/jpx-tokyo-stock-exchange-prediction/example_test_files/sample_submission.csv\")\n",
    "teststockprices = pd.read_csv(\"../input/jpx-tokyo-stock-exchange-prediction/example_test_files/stock_prices.csv\")\n",
    "stock_list=pd.read_csv(\"../input/jpx-tokyo-stock-exchange-prediction/stock_list.csv\")\n",
    "train_df=train_df.append(supplemental_df,ignore_index=True)\n",
    "stock_list['SectorName']=[i.rstrip().lower().capitalize() for i in stock_list['17SectorName']]\n",
    "stock_list['Name']=[i.rstrip().lower().capitalize() for i in stock_list['Name']]\n",
    "df = train_df.merge(stock_list[['SecuritiesCode','Name','SectorName']], on='SecuritiesCode', how='left')"
   ]
  },
  {
   "cell_type": "markdown",
   "metadata": {},
   "source": [
    "# **1.3 Hàm tính toán các chỉ số cần thiết và xử lý dữ liệu bị khuyết**"
   ]
  },
  {
   "cell_type": "code",
   "execution_count": null,
   "metadata": {
    "execution": {
     "iopub.execute_input": "2022-07-08T10:02:23.561778Z",
     "iopub.status.busy": "2022-07-08T10:02:23.561424Z",
     "iopub.status.idle": "2022-07-08T10:02:23.57908Z",
     "shell.execute_reply": "2022-07-08T10:02:23.578098Z",
     "shell.execute_reply.started": "2022-07-08T10:02:23.561747Z"
    }
   },
   "outputs": [],
   "source": [
    "def getadvance(x):\n",
    "    ret = 0\n",
    "    if x > 0:\n",
    "        ret = 1\n",
    "    return(ret)\n",
    "def get_month(dt):\n",
    "    x = dt.strftime(\"%m\")\n",
    "    return(x)\n",
    "def RSI(series, period):\n",
    "    delta = series.diff().dropna()\n",
    "    u = delta * 0\n",
    "    d = u.copy()\n",
    "    u[delta > 0] = delta[delta > 0]\n",
    "    d[delta < 0] = -delta[delta < 0]\n",
    "    u[u.index[period-1]] = np.mean( u[:period] ) #first value is sum of avg gains\n",
    "    u = u.drop(u.index[:(period-1)])\n",
    "    d[d.index[period-1]] = np.mean( d[:period] ) #first value is sum of avg losses\n",
    "    d = d.drop(d.index[:(period-1)])\n",
    "    rs = pd.DataFrame.ewm(u, com=period-1, adjust=False).mean() / \\\n",
    "         pd.DataFrame.ewm(d, com=period-1, adjust=False).mean()\n",
    "    return 100 - 100 / (1 + rs)\n",
    "def rsi_class(x):\n",
    "    ret = \"low\"\n",
    "    if x < 50:\n",
    "        ret = \"low\"\n",
    "    if x > 50:\n",
    "        ret = \"med\"\n",
    "    if x > 70:\n",
    "        ret = \"hi\"\n",
    "    return(ret)\n",
    "def prep_prices(price, test = False):\n",
    "    from decimal import ROUND_HALF_UP, Decimal\n",
    "    pcols = [\"Open\",\"High\",\"Low\",\"Close\"]\n",
    "    price.ExpectedDividend.fillna(0,inplace=True)\n",
    "    def qround(x):\n",
    "        return float(Decimal(str(x)).quantize(Decimal('0.1'), rounding=ROUND_HALF_UP))\n",
    "    \n",
    "    def adjust_prices(df_):\n",
    "        df_ = df_.sort_values(\"Date\", ascending=False)\n",
    "        df_.loc[:, \"CumAdjust\"] = df_[\"AdjustmentFactor\"].cumprod()\n",
    "        # generate adjusted prices\n",
    "        for p in pcols:     \n",
    "            df_.loc[:, p] = (df_[\"CumAdjust\"] * df_[p]).apply(qround)\n",
    "        df_.loc[:, \"Volume\"] = df_[\"Volume\"] / df_[\"CumAdjust\"]\n",
    "        df_.ffill(inplace=True)\n",
    "        df_.bfill(inplace=True)\n",
    "        \n",
    "        # generate and fill Targets\n",
    "        #df.loc[:, \"Target\"] = ((df.Close.shift(-2)/df.Close.shift(-1) - 1)).fillna(df.Target)\n",
    "        if (not test):\n",
    "            df_.Target.fillna(0,inplace=True)\n",
    "        return df_\n",
    "    # generate Adjusted\n",
    "    price = price.sort_values([\"SecuritiesCode\", \"Date\"])\n",
    "    price = price.groupby(\"SecuritiesCode\").apply(adjust_prices).reset_index(drop=True)\n",
    "    price = price.sort_values(\"RowId\")\n",
    "    return price"
   ]
  },
  {
   "cell_type": "markdown",
   "metadata": {},
   "source": [
    "# **1.4 Trực quan hóa dữ liệu**"
   ]
  },
  {
   "cell_type": "code",
   "execution_count": null,
   "metadata": {
    "execution": {
     "iopub.execute_input": "2022-07-07T11:35:29.75551Z",
     "iopub.status.busy": "2022-07-07T11:35:29.754743Z",
     "iopub.status.idle": "2022-07-07T11:35:35.116073Z",
     "shell.execute_reply": "2022-07-07T11:35:35.114814Z",
     "shell.execute_reply.started": "2022-07-07T11:35:29.755428Z"
    }
   },
   "outputs": [],
   "source": [
    "sns.set(rc={'figure.figsize':(14.7,6)})\n",
    "sns.set_style(\"whitegrid\")\n",
    "plt.figure(figsize=(8,6))\n",
    "plt.scatter(range(df.shape[0]), np.sort(df['Target'].values))\n",
    "plt.xlabel('index', fontsize=12)\n",
    "plt.ylabel('Target', fontsize=12)\n",
    "plt.show()"
   ]
  },
  {
   "cell_type": "code",
   "execution_count": null,
   "metadata": {
    "execution": {
     "iopub.execute_input": "2022-07-07T11:35:35.120065Z",
     "iopub.status.busy": "2022-07-07T11:35:35.119609Z",
     "iopub.status.idle": "2022-07-07T11:35:36.097169Z",
     "shell.execute_reply": "2022-07-07T11:35:36.09587Z",
     "shell.execute_reply.started": "2022-07-07T11:35:35.120025Z"
    }
   },
   "outputs": [],
   "source": [
    "def summarize(df_, file_name, n_rows_to_show=5):\n",
    "    \"\"\"Simply summarize the given DataFrame.\n",
    "    \n",
    "    Parameters:\n",
    "        df: pd.DataFrame, raw DataFrame\n",
    "        file_name: str, name of the file\n",
    "        n_rows_to_show: int, number of rows to show \n",
    "    \"\"\"\n",
    "    print(f\"=====Summary of {file_name}=====\")\n",
    "    print(f\"Shape: {df.shape}\")\n",
    "    \n",
    "    nan_ratio = pd.isna(df_).sum() / len(df_) * 100\n",
    "    nan_ratio.sort_values(ascending=False, inplace=True)\n",
    "    nan_ratio = nan_ratio.to_frame(name='NaN Ratio').T\n",
    "    print(\"NaN ratio:\")\n",
    "    display(nan_ratio)   \n",
    "    \n",
    "    display(df_.head(n_rows_to_show))\n",
    "summarize(df, \"stock_prices.csv\")"
   ]
  },
  {
   "cell_type": "code",
   "execution_count": null,
   "metadata": {
    "execution": {
     "iopub.execute_input": "2022-07-07T11:35:36.099651Z",
     "iopub.status.busy": "2022-07-07T11:35:36.099207Z",
     "iopub.status.idle": "2022-07-07T11:35:36.88979Z",
     "shell.execute_reply": "2022-07-07T11:35:36.888606Z",
     "shell.execute_reply.started": "2022-07-07T11:35:36.099607Z"
    }
   },
   "outputs": [],
   "source": [
    "n_dates = df['Date'].nunique()\n",
    "date_min, date_max = df['Date'].min(), df['Date'].max()\n",
    "n_stocks = df['SecuritiesCode'].nunique()\n",
    "\n",
    "print(f\"Number of unique dates: {n_dates} ({date_min} ~ {date_max})\\n\"\n",
    "      f\"Number of unique stocks: {n_stocks}\")"
   ]
  },
  {
   "cell_type": "code",
   "execution_count": null,
   "metadata": {
    "execution": {
     "iopub.execute_input": "2022-07-07T11:35:36.891915Z",
     "iopub.status.busy": "2022-07-07T11:35:36.891356Z",
     "iopub.status.idle": "2022-07-07T11:35:37.382397Z",
     "shell.execute_reply": "2022-07-07T11:35:37.381281Z",
     "shell.execute_reply.started": "2022-07-07T11:35:36.891869Z"
    }
   },
   "outputs": [],
   "source": [
    "n_dates_per_stock = df.groupby(['SecuritiesCode'])['Date'].count()\n",
    "n_stocks_per_date = df.groupby(['Date'])['SecuritiesCode'].count()"
   ]
  },
  {
   "cell_type": "markdown",
   "metadata": {},
   "source": [
    "**Missing Values**"
   ]
  },
  {
   "cell_type": "code",
   "execution_count": null,
   "metadata": {
    "execution": {
     "iopub.execute_input": "2022-07-07T11:35:37.385824Z",
     "iopub.status.busy": "2022-07-07T11:35:37.385065Z",
     "iopub.status.idle": "2022-07-07T11:35:37.951701Z",
     "shell.execute_reply": "2022-07-07T11:35:37.950664Z",
     "shell.execute_reply.started": "2022-07-07T11:35:37.385776Z"
    }
   },
   "outputs": [],
   "source": [
    "df_no_prices = df[df['Close'].isna()]\n",
    "print(f\"Number of samples without prices: {len(df_no_prices)}\")"
   ]
  },
  {
   "cell_type": "code",
   "execution_count": null,
   "metadata": {
    "execution": {
     "iopub.execute_input": "2022-07-07T11:35:37.954033Z",
     "iopub.status.busy": "2022-07-07T11:35:37.953421Z",
     "iopub.status.idle": "2022-07-07T11:35:39.302651Z",
     "shell.execute_reply": "2022-07-07T11:35:39.301753Z",
     "shell.execute_reply.started": "2022-07-07T11:35:37.95399Z"
    }
   },
   "outputs": [],
   "source": [
    "def plot_candle_with_target(stock_code):\n",
    "    \"\"\"Plot OHLCV plot with target series.\n",
    "    \n",
    "    Parameters:\n",
    "        stock_code: int, code of the stock\n",
    "        prime: bool, whether the stock to plot is prime or not\n",
    "    \"\"\"\n",
    "    df_ = df.copy()\n",
    "    df_ = df_[df_['SecuritiesCode'] == stock_code]\n",
    "    dates = df_['Date'].values\n",
    "    ohlc = {\n",
    "        'open': df_['Open'].values, \n",
    "        'high': df_['High'].values, \n",
    "        'low': df_['Low'].values, \n",
    "        'close': df_['Close'].values\n",
    "    }\n",
    "    vol = df_['Volume'].values\n",
    "    target = df_['Target'].values\n",
    "    \n",
    "    fig = make_subplots(rows=3, cols=1, shared_xaxes=True, x_title='Date')\n",
    "    fig.add_trace(go.Candlestick(x=dates, name='OHLC', **ohlc),\n",
    "                  row=1, col=1)\n",
    "    fig.add_trace(go.Bar(x=dates, y=vol, name='Volume'),\n",
    "                  row=2, col=1)\n",
    "    fig.add_trace(go.Scatter(x=dates, y=target, name='Target'),\n",
    "                  row=3, col=1)\n",
    "    fig.update_layout(\n",
    "        title=f\"OHLCV Chart with Target Series (Stock {stock_code})\",\n",
    "    )\n",
    "    fig.update(layout_xaxis_rangeslider_visible=False)\n",
    "    fig.show()\n",
    "for stock_code in df['SecuritiesCode'].unique()[:3]:\n",
    "    plot_candle_with_target(stock_code)"
   ]
  },
  {
   "cell_type": "code",
   "execution_count": null,
   "metadata": {
    "execution": {
     "iopub.execute_input": "2022-07-07T11:35:39.304997Z",
     "iopub.status.busy": "2022-07-07T11:35:39.304102Z",
     "iopub.status.idle": "2022-07-07T11:35:40.093062Z",
     "shell.execute_reply": "2022-07-07T11:35:40.091669Z",
     "shell.execute_reply.started": "2022-07-07T11:35:39.304956Z"
    }
   },
   "outputs": [],
   "source": [
    "target_mean_per_stock = df.groupby(['SecuritiesCode'])['Target'].mean()\n",
    "target_mean_mean = target_mean_per_stock.mean()\n",
    "\n",
    "fig, ax = plt.subplots(figsize=(10, 5))\n",
    "sns.histplot(data=target_mean_per_stock.values, bins=100, palette=colors, kde=True,\n",
    "             ax=ax)\n",
    "ax.axvline(x=target_mean_mean, color='orange', linestyle='dotted', linewidth=2, \n",
    "           label='Mean')\n",
    "ax.set_title(\"Target Mean Distibution\\n\"\n",
    "             f\"Min {round(target_mean_per_stock.min(), 4)} | \"\n",
    "             f\"Max {round(target_mean_per_stock.max(), 4)} | \"\n",
    "             f\"Skewness {round(target_mean_per_stock.skew(), 2)} | \"\n",
    "             f\"Kurtosis {round(target_mean_per_stock.kurtosis(), 2)}\")\n",
    "ax.set_xlabel(\"Target Mean\")\n",
    "ax.set_ylabel(\"Stock Count\")\n",
    "ax.legend()\n",
    "plt.show()"
   ]
  },
  {
   "cell_type": "code",
   "execution_count": null,
   "metadata": {
    "execution": {
     "iopub.execute_input": "2022-07-07T11:35:40.104375Z",
     "iopub.status.busy": "2022-07-07T11:35:40.103616Z",
     "iopub.status.idle": "2022-07-07T11:35:40.946944Z",
     "shell.execute_reply": "2022-07-07T11:35:40.944205Z",
     "shell.execute_reply.started": "2022-07-07T11:35:40.104329Z"
    }
   },
   "outputs": [],
   "source": [
    "target_std_per_stock = df.groupby(['SecuritiesCode'])['Target'].std()\n",
    "target_std_mean = target_std_per_stock.mean()\n",
    "\n",
    "fig, ax = plt.subplots(figsize=(10, 5))\n",
    "sns.histplot(data=target_std_per_stock.values, bins=100, palette=colors, kde=True,\n",
    "             ax=ax)\n",
    "ax.axvline(x=target_std_mean, color='orange', linestyle='dotted', linewidth=2, \n",
    "           label='Mean')\n",
    "ax.set_title(\"Target Std Distibution\\n\"\n",
    "             f\"Min {round(target_std_per_stock.min(), 4)} | \"\n",
    "             f\"Max {round(target_std_per_stock.max(), 4)} | \"\n",
    "             f\"Skewness {round(target_std_per_stock.skew(), 2)} | \"\n",
    "             f\"Kurtosis {round(target_std_per_stock.kurtosis(), 2)}\")\n",
    "ax.set_xlabel(\"Target Std\")\n",
    "ax.set_ylabel(\"Stock Count\")\n",
    "ax.legend()\n",
    "plt.show()"
   ]
  },
  {
   "cell_type": "code",
   "execution_count": null,
   "metadata": {
    "execution": {
     "iopub.execute_input": "2022-07-07T11:35:40.949607Z",
     "iopub.status.busy": "2022-07-07T11:35:40.948582Z",
     "iopub.status.idle": "2022-07-07T11:35:41.084682Z",
     "shell.execute_reply": "2022-07-07T11:35:41.083557Z",
     "shell.execute_reply.started": "2022-07-07T11:35:40.94956Z"
    }
   },
   "outputs": [],
   "source": [
    "df.select_dtypes(include=['object'])"
   ]
  },
  {
   "cell_type": "code",
   "execution_count": null,
   "metadata": {
    "execution": {
     "iopub.execute_input": "2022-07-07T11:35:41.088639Z",
     "iopub.status.busy": "2022-07-07T11:35:41.086185Z",
     "iopub.status.idle": "2022-07-07T11:35:41.172798Z",
     "shell.execute_reply": "2022-07-07T11:35:41.17175Z",
     "shell.execute_reply.started": "2022-07-07T11:35:41.088589Z"
    }
   },
   "outputs": [],
   "source": [
    " df.select_dtypes(include=['float'])"
   ]
  },
  {
   "cell_type": "code",
   "execution_count": null,
   "metadata": {
    "execution": {
     "iopub.execute_input": "2022-07-08T10:02:33.366854Z",
     "iopub.status.busy": "2022-07-08T10:02:33.36645Z",
     "iopub.status.idle": "2022-07-08T10:03:30.101878Z",
     "shell.execute_reply": "2022-07-08T10:03:30.101037Z",
     "shell.execute_reply.started": "2022-07-08T10:02:33.366823Z"
    }
   },
   "outputs": [],
   "source": [
    "df = prep_prices(df)\n"
   ]
  },
  {
   "cell_type": "code",
   "execution_count": null,
   "metadata": {
    "execution": {
     "iopub.execute_input": "2022-07-08T10:04:20.496037Z",
     "iopub.status.busy": "2022-07-08T10:04:20.495507Z",
     "iopub.status.idle": "2022-07-08T10:04:20.538319Z",
     "shell.execute_reply": "2022-07-08T10:04:20.537604Z",
     "shell.execute_reply.started": "2022-07-08T10:04:20.495996Z"
    }
   },
   "outputs": [],
   "source": [
    "df.head()"
   ]
  },
  {
   "cell_type": "markdown",
   "metadata": {},
   "source": [
    "# **1.5 Xây dựng mô hình cơ sở**"
   ]
  },
  {
   "cell_type": "code",
   "execution_count": null,
   "metadata": {
    "execution": {
     "iopub.execute_input": "2022-07-07T21:56:38.06503Z",
     "iopub.status.busy": "2022-07-07T21:56:38.064357Z",
     "iopub.status.idle": "2022-07-07T21:56:51.043584Z",
     "shell.execute_reply": "2022-07-07T21:56:51.042789Z",
     "shell.execute_reply.started": "2022-07-07T21:56:38.064995Z"
    }
   },
   "outputs": [],
   "source": [
    "seclist=df['SecuritiesCode'].unique()\n",
    "rmse_base=[]\n",
    "mae_base=[]\n",
    "for SECURITY in seclist:\n",
    "    df_base_i=df[df['SecuritiesCode']==SECURITY]\n",
    "    df_base_i.loc[:,\"MovingAvg_{}Day\".format(50)] = df_base_i.groupby(\"SecuritiesCode\")['Target'].rolling(window=50,min_periods=1).mean().values\n",
    "    rmse_i= np.sqrt(mean_squared_error(df_base_i['Target'].values,df_base_i['MovingAvg_50Day'].values))\n",
    "    mae_i=mean_absolute_error(df_base_i['Target'].values,df_base_i['MovingAvg_50Day'].values)\n",
    "    rmse_base.append(rmse_i)\n",
    "    mae_base.append(mae_i)"
   ]
  },
  {
   "cell_type": "code",
   "execution_count": null,
   "metadata": {
    "execution": {
     "iopub.execute_input": "2022-07-07T21:41:52.134543Z",
     "iopub.status.busy": "2022-07-07T21:41:52.13417Z",
     "iopub.status.idle": "2022-07-07T21:41:52.155477Z",
     "shell.execute_reply": "2022-07-07T21:41:52.154113Z",
     "shell.execute_reply.started": "2022-07-07T21:41:52.134509Z"
    }
   },
   "outputs": [],
   "source": [
    "df_base_i.head()"
   ]
  },
  {
   "cell_type": "code",
   "execution_count": null,
   "metadata": {
    "execution": {
     "iopub.execute_input": "2022-07-07T21:57:04.062356Z",
     "iopub.status.busy": "2022-07-07T21:57:04.062019Z",
     "iopub.status.idle": "2022-07-07T21:57:04.068153Z",
     "shell.execute_reply": "2022-07-07T21:57:04.067019Z",
     "shell.execute_reply.started": "2022-07-07T21:57:04.062327Z"
    }
   },
   "outputs": [],
   "source": [
    " print(\"\\n root mean squared error = {:.4f}, mean absolute error = {:.4f}.\".format(np.mean(rmse_base),np.mean(mae_base)))"
   ]
  },
  {
   "cell_type": "markdown",
   "metadata": {},
   "source": [
    "# **1.6 Mô hình ARIMA(4,1,4)**"
   ]
  },
  {
   "cell_type": "code",
   "execution_count": null,
   "metadata": {
    "execution": {
     "iopub.execute_input": "2022-07-07T20:31:57.121461Z",
     "iopub.status.busy": "2022-07-07T20:31:57.121007Z",
     "iopub.status.idle": "2022-07-07T20:32:09.92684Z",
     "shell.execute_reply": "2022-07-07T20:32:09.925214Z",
     "shell.execute_reply.started": "2022-07-07T20:31:57.121409Z"
    }
   },
   "outputs": [],
   "source": [
    "seclist=df[\"SecuritiesCode\"].unique()\n",
    "rmses1=[]\n",
    "maes1=[]\n",
    "list_high_error1=[]\n",
    "for SECURITY in seclist:\n",
    "    df_stock = df[df['SecuritiesCode'] == SECURITY]\n",
    "    values_data=df_stock['Target'].values\n",
    "    split=int(0.9*len(values_data))\n",
    "    train=values_data[0:split]\n",
    "    valid=values_data[split:]\n",
    "    model = sm.tsa.arima.ARIMA(train, order=(4,1,4))\n",
    "    model_fit = model.fit()\n",
    "    predictions = model_fit.forecast(len(valid),exog=valid)\n",
    "    rmse = np.sqrt(mean_squared_error(valid, predictions))\n",
    "    mae = mean_absolute_error(valid, predictions)\n",
    "    rmses1.append(rmse)\n",
    "    maes1.append(mae)\n",
    "    if(rmse>0.05):\n",
    "        list_high_error1.append(SECURITY)\n",
    "    print(\"\\n{} root mean squared error = {:.4f}, mean absolute error = {:.4f}.\".format(SECURITY,rmse,mae))\n",
    "    "
   ]
  },
  {
   "cell_type": "code",
   "execution_count": null,
   "metadata": {
    "execution": {
     "iopub.execute_input": "2022-07-07T13:29:15.69462Z",
     "iopub.status.busy": "2022-07-07T13:29:15.691498Z",
     "iopub.status.idle": "2022-07-07T13:29:15.708653Z",
     "shell.execute_reply": "2022-07-07T13:29:15.707559Z",
     "shell.execute_reply.started": "2022-07-07T13:29:15.694569Z"
    }
   },
   "outputs": [],
   "source": [
    "print(\"\\nASIMA root mean squared error = {:.4f}, mean absolute error = {:.4f}.\".format(np.mean(rmses1),np.mean(maes1)))"
   ]
  },
  {
   "cell_type": "markdown",
   "metadata": {},
   "source": [
    "# **2 Xử lý dữ liệu. Xây dựng các mô hình LightGBMRegressor**"
   ]
  },
  {
   "cell_type": "code",
   "execution_count": null,
   "metadata": {
    "execution": {
     "iopub.execute_input": "2022-07-07T13:45:05.735242Z",
     "iopub.status.busy": "2022-07-07T13:45:05.734764Z",
     "iopub.status.idle": "2022-07-07T13:45:05.750428Z",
     "shell.execute_reply": "2022-07-07T13:45:05.749262Z",
     "shell.execute_reply.started": "2022-07-07T13:45:05.735198Z"
    }
   },
   "outputs": [],
   "source": [
    "def get_model_data(df_, SECURITY_CODE):\n",
    "    df_data = df_.copy()\n",
    "    df_stock = df_data[df_data['SecuritiesCode'] == SECURITY_CODE]\n",
    "    # feature 'average price, vwap\n",
    "    # Some optimization here.\n",
    "    test_length = -1\n",
    "    if len(df_stock['typ'].unique() == 2): # This means this is test data creation\n",
    "        test_length = len(df_stock[df_stock['typ'] == 'test'])\n",
    "    \n",
    "    df_stock = df_stock.sort_values(by = \"Date\", ascending = False).reset_index(drop = True)\n",
    "    #if test_length > 0:\n",
    "            #df_stock = df_stock[0: test_length + 125]\n",
    "    df_stock['average'] = (df_stock['High'] + df_stock['Low'] + df_stock['Close'])/3\n",
    "    df_stock['vwap'] = (df_stock['Close'] * df_stock['Volume'])/ df_stock['Volume']\n",
    "    df_stock['vwap_pct_ret'] = df_stock['vwap'].pct_change()\n",
    "    df_stock['pvwap'] = df_stock['vwap_pct_ret'].shift(-1)\n",
    "    df_stock['20D-EMA'] = df_stock['Close'].ewm(span=20,adjust=False).mean()\n",
    "    df_stock['50D-EMA'] = df_stock['Close'].ewm(span=50,adjust=False).mean()\n",
    "    df_stock['100D-EMA'] = df_stock['Close'].ewm(span=100,adjust=False).mean()\n",
    "    df_stock = df_stock.sort_values(by = \"Date\").reset_index(drop = True)\n",
    "    df_stock['rsi'] = RSI( df_stock['Close'], 5 )\n",
    "    df_stock['rsicat'] = list(map(rsi_class, df_stock['rsi']))\n",
    "    df_stock['dt'] = pd.to_datetime(df_stock['Date'], format  = \"%Y-%m-%d\")\n",
    "    df_stock['dayofweek'] = df_stock['dt'].dt.dayofweek\n",
    "    # Another feature day of the week will also be added.\n",
    "    df_stock['rsicat'] = pd.Series(df_stock['rsicat'], dtype=\"category\")\n",
    "    df_stock = df_stock.sort_values(by = \"Date\").reset_index(drop = True)\n",
    "    df_model = df_stock[['Open', 'High', 'Low', 'Close'\n",
    "                        , 'average', 'vwap', 'rsi', 'pvwap'\n",
    "                        , '20D-EMA' , '50D-EMA', '100D-EMA'\n",
    "                        , 'rsicat', 'dayofweek', 'Target'\n",
    "                        , 'typ', 'RowId', 'Date', 'SecuritiesCode']]\n",
    "    # '\n",
    "    return df_model"
   ]
  },
  {
   "cell_type": "code",
   "execution_count": null,
   "metadata": {
    "execution": {
     "iopub.execute_input": "2022-07-07T13:45:05.753082Z",
     "iopub.status.busy": "2022-07-07T13:45:05.752183Z",
     "iopub.status.idle": "2022-07-07T13:45:05.7717Z",
     "shell.execute_reply": "2022-07-07T13:45:05.770617Z",
     "shell.execute_reply.started": "2022-07-07T13:45:05.753037Z"
    }
   },
   "outputs": [],
   "source": [
    "def get_model_blueprint():\n",
    "    model = LGBMRegressor(\n",
    "             objective=\"rmse\",\n",
    "             metric=\"rmse\",\n",
    "             learning_rate=0.005,\n",
    "             n_estimators=50000,\n",
    "             device=\"cpu\",\n",
    "             random_state=999,\n",
    "             extra_trees=True,\n",
    "             #categorical_feature=[0]\n",
    "        )\n",
    "    #model = LGBMRegressor(device_type = 'cpu')\n",
    "    return(model)"
   ]
  },
  {
   "cell_type": "code",
   "execution_count": null,
   "metadata": {
    "execution": {
     "iopub.execute_input": "2022-07-07T13:45:05.793647Z",
     "iopub.status.busy": "2022-07-07T13:45:05.793061Z",
     "iopub.status.idle": "2022-07-07T13:45:05.824645Z",
     "shell.execute_reply": "2022-07-07T13:45:05.823401Z",
     "shell.execute_reply.started": "2022-07-07T13:45:05.793601Z"
    }
   },
   "outputs": [],
   "source": [
    "df.head()"
   ]
  },
  {
   "cell_type": "code",
   "execution_count": null,
   "metadata": {
    "execution": {
     "iopub.execute_input": "2022-07-07T13:45:05.827449Z",
     "iopub.status.busy": "2022-07-07T13:45:05.826545Z",
     "iopub.status.idle": "2022-07-07T14:31:54.487632Z",
     "shell.execute_reply": "2022-07-07T14:31:54.486468Z",
     "shell.execute_reply.started": "2022-07-07T13:45:05.827403Z"
    }
   },
   "outputs": [],
   "source": [
    "sharpe_ratio=[]\n",
    "rmses3=[]\n",
    "maes3=[]\n",
    "df = df.assign(typ = 'train')\n",
    "# # Build models\n",
    "dict_models = {}\n",
    "seclist = df['SecuritiesCode'].unique()\n",
    "list_high_error2=[]\n",
    "# #seclist = [1301, 1332, 1333, 1376, 1377]\n",
    "for SECURITY in (seclist):\n",
    "    df_model = get_model_data(df, SECURITY)\n",
    "    df_model = df_model.dropna().reset_index(drop=True)\n",
    "    del df_model['typ']\n",
    "    del df_model['RowId']\n",
    "    del df_model['Date']\n",
    "    del df_model['SecuritiesCode']\n",
    "    train_size = round(len(df_model) * .9)\n",
    "    test_size = len(df_model) - train_size\n",
    "    X_train = df_model[:train_size]\n",
    "    y_train = df_model['Target'][:train_size].values\n",
    "    X_valid = df_model[train_size:]\n",
    "    y_valid = df_model['Target'][train_size:].values\n",
    "    del X_train['Target']\n",
    "    del X_valid['Target']\n",
    "    model = get_model_blueprint()\n",
    "    model.fit(\n",
    "           X_train, y_train,\n",
    "           eval_set=[(X_valid, y_valid)],\n",
    "           early_stopping_rounds=50,\n",
    "           verbose=1000)\n",
    "    valid_preds = model.predict(X_valid)\n",
    "    valid_score = np.sqrt(mean_squared_error(y_valid, valid_preds))\n",
    "    rmse = np.sqrt(mean_squared_error(y_valid, valid_preds))\n",
    "    mae = mean_absolute_error(y_valid, valid_preds)\n",
    "    if(rmse>0.05):\n",
    "        list_high_error2.append(SECURITY)\n",
    "    rmses3.append(rmse)\n",
    "    maes3.append(mae)\n",
    "    print(SECURITY, valid_score)\n",
    "    dict_models[SECURITY] = model"
   ]
  },
  {
   "cell_type": "code",
   "execution_count": null,
   "metadata": {
    "execution": {
     "iopub.execute_input": "2022-07-07T14:31:54.493141Z",
     "iopub.status.busy": "2022-07-07T14:31:54.492813Z",
     "iopub.status.idle": "2022-07-07T14:31:54.50079Z",
     "shell.execute_reply": "2022-07-07T14:31:54.499497Z",
     "shell.execute_reply.started": "2022-07-07T14:31:54.493112Z"
    }
   },
   "outputs": [],
   "source": [
    "print(\"\\n root mean squared error = {:.4f}, mean absolute error = {:.4f}.\".format(np.mean(rmses3),np.mean(maes3)))"
   ]
  },
  {
   "cell_type": "code",
   "execution_count": null,
   "metadata": {
    "execution": {
     "iopub.execute_input": "2022-07-07T14:31:54.503383Z",
     "iopub.status.busy": "2022-07-07T14:31:54.502415Z",
     "iopub.status.idle": "2022-07-07T14:31:54.515454Z",
     "shell.execute_reply": "2022-07-07T14:31:54.514183Z",
     "shell.execute_reply.started": "2022-07-07T14:31:54.503324Z"
    }
   },
   "outputs": [],
   "source": [
    "print(len(list_high_error1))\n",
    "print(len(list_high_error2))"
   ]
  },
  {
   "cell_type": "code",
   "execution_count": null,
   "metadata": {
    "execution": {
     "iopub.execute_input": "2022-07-07T14:31:54.519108Z",
     "iopub.status.busy": "2022-07-07T14:31:54.517682Z",
     "iopub.status.idle": "2022-07-07T14:31:54.5268Z",
     "shell.execute_reply": "2022-07-07T14:31:54.525569Z",
     "shell.execute_reply.started": "2022-07-07T14:31:54.519061Z"
    }
   },
   "outputs": [],
   "source": [
    "print(list_high_error1)\n",
    "print(list_high_error2)"
   ]
  },
  {
   "cell_type": "code",
   "execution_count": null,
   "metadata": {
    "execution": {
     "iopub.execute_input": "2022-07-07T14:31:54.529904Z",
     "iopub.status.busy": "2022-07-07T14:31:54.529049Z",
     "iopub.status.idle": "2022-07-07T14:31:54.537728Z",
     "shell.execute_reply": "2022-07-07T14:31:54.536175Z",
     "shell.execute_reply.started": "2022-07-07T14:31:54.52986Z"
    }
   },
   "outputs": [],
   "source": [
    "list_high_error=set(list_high_error1) & set(list_high_error2)\n",
    "print(list_high_error)"
   ]
  },
  {
   "cell_type": "code",
   "execution_count": null,
   "metadata": {
    "execution": {
     "iopub.execute_input": "2022-07-07T14:31:54.540488Z",
     "iopub.status.busy": "2022-07-07T14:31:54.539806Z",
     "iopub.status.idle": "2022-07-07T14:32:07.692757Z",
     "shell.execute_reply": "2022-07-07T14:32:07.691741Z",
     "shell.execute_reply.started": "2022-07-07T14:31:54.540427Z"
    }
   },
   "outputs": [],
   "source": [
    " for SECURITY in list_high_error:\n",
    "        print(df[df['SecuritiesCode']==SECURITY]['Target'].head())\n",
    "        plt.plot(df[df['SecuritiesCode']==SECURITY]['Target'], marker='.')\n",
    "        plt.show()\n",
    "       "
   ]
  },
  {
   "cell_type": "code",
   "execution_count": null,
   "metadata": {
    "execution": {
     "iopub.execute_input": "2022-07-07T14:32:07.695718Z",
     "iopub.status.busy": "2022-07-07T14:32:07.694451Z",
     "iopub.status.idle": "2022-07-07T14:32:31.403884Z",
     "shell.execute_reply": "2022-07-07T14:32:31.40186Z",
     "shell.execute_reply.started": "2022-07-07T14:32:07.695669Z"
    }
   },
   "outputs": [],
   "source": [
    "for SECURITY in list_high_error:\n",
    "    df_model = get_model_data(df, SECURITY)\n",
    "    df_model = df_model.dropna().reset_index(drop=True)\n",
    "    del df_model['typ']\n",
    "    del df_model['RowId']\n",
    "    del df_model['Date']\n",
    "    del df_model['SecuritiesCode']\n",
    "    train_size = round(len(df_model) * .9)\n",
    "    test_size = len(df_model) - train_size\n",
    "    X_train = df_model[:train_size]\n",
    "    y_train = df_model['Target'][:train_size].values\n",
    "    X_valid = df_model[train_size:]\n",
    "    y_valid = df_model['Target'][train_size:].values\n",
    "    del X_train['Target']\n",
    "    del X_valid['Target']\n",
    "    model = LGBMRegressor(\n",
    "             objective=\"rmse\",\n",
    "             metric=\"rmse\",\n",
    "             learning_rate=0.01,\n",
    "             n_estimators=100000,\n",
    "             device=\"cpu\",\n",
    "             random_state=999,\n",
    "             extra_trees=True,\n",
    "             #categorical_feature=[0]\n",
    "        )\n",
    "    model.fit(\n",
    "           X_train, y_train,\n",
    "           eval_set=[(X_valid, y_valid)],\n",
    "           early_stopping_rounds=50,\n",
    "           verbose=1000)\n",
    "    valid_preds = model.predict(X_valid)\n",
    "    valid_score = np.sqrt(mean_squared_error(y_valid, valid_preds))\n",
    "    rmse = np.sqrt(mean_squared_error(y_valid, valid_preds))\n",
    "    mae = mean_absolute_error(y_valid, valid_preds)\n",
    "    print(\"\\n{} root mean squared error = {:.4f}, mean absolute error = {:.4f}.\".format(SECURITY,rmse,mae))"
   ]
  },
  {
   "cell_type": "markdown",
   "metadata": {},
   "source": [
    "# **3 Kiểm tra mô hình với API của cuộc thi**"
   ]
  },
  {
   "cell_type": "code",
   "execution_count": null,
   "metadata": {
    "execution": {
     "iopub.execute_input": "2022-07-07T14:32:31.406136Z",
     "iopub.status.busy": "2022-07-07T14:32:31.40568Z",
     "iopub.status.idle": "2022-07-07T14:32:31.423885Z",
     "shell.execute_reply": "2022-07-07T14:32:31.422978Z",
     "shell.execute_reply.started": "2022-07-07T14:32:31.406089Z"
    }
   },
   "outputs": [],
   "source": [
    "import jpx_tokyo_market_prediction\n",
    "env = jpx_tokyo_market_prediction.make_env()\n",
    "iter_test = env.iter_test()\n",
    "from tqdm import tqdm"
   ]
  },
  {
   "cell_type": "code",
   "execution_count": null,
   "metadata": {
    "execution": {
     "iopub.execute_input": "2022-07-07T14:32:31.427577Z",
     "iopub.status.busy": "2022-07-07T14:32:31.427243Z",
     "iopub.status.idle": "2022-07-07T14:58:18.475189Z",
     "shell.execute_reply": "2022-07-07T14:58:18.472793Z",
     "shell.execute_reply.started": "2022-07-07T14:32:31.42755Z"
    }
   },
   "outputs": [],
   "source": [
    "\n",
    "for i, (prices, options, financials, trades, secondary_prices, sample_prediction) in enumerate(tqdm(iter_test)):\n",
    "    sample_prediction.assign(Prediction = None, inplace = True)\n",
    "    df_all = df.copy()\n",
    "    prices = prep_prices(prices, True)\n",
    "    ##prices['Date'] = pd.to_datetime(prices['Date'], format = \"%Y-%m-%d\")\n",
    "    ##prices['dtint'] = prices['Date'].dt.strftime(\"%Y%m%d\").astype(int)\n",
    "    df_all = df_all.append(prices)\n",
    "    df_all[['typ']] = df_all[['typ']].fillna(value= 'test')\n",
    "    seclist=prices[\"SecuritiesCode\"].unique()\n",
    "    for SECURITY in seclist:\n",
    "        df_model = get_model_data(df_all, SECURITY)\n",
    "        df_test = df_model[df_model['typ'] == 'test']\n",
    "        index    = df_test.index.values[0]\n",
    "        rowid    = df_test['RowId'].values[0]\n",
    "        date     = df_test['Date'].values[0]\n",
    "        seccode  = df_test['SecuritiesCode'].values[0]\n",
    "        del df_test['RowId']\n",
    "        del df_test['typ']\n",
    "        del df_test['Date']\n",
    "        del df_test['Target']\n",
    "        del df_test['SecuritiesCode']\n",
    "        pred = dict_models[SECURITY].predict(df_test)\n",
    "        df_sample = sample_prediction.copy()\n",
    "        df_sample['Date'] = pd.to_datetime(df_sample['Date'], format = \"%Y-%m-%d\")\n",
    "        df_sample = df_sample[df_sample['Date'] == date]\n",
    "        df_sample = df_sample[df_sample['SecuritiesCode'] == seccode]\n",
    "        index = df_sample.index.values[0]\n",
    "        sample_prediction.at[index, 'Prediction'] = pred[0]\n",
    "    sample_prediction = sample_prediction.sort_values(by = \"Prediction\", ascending=False)\n",
    "    sample_prediction.Rank = np.arange(0,2000)\n",
    "    sample_prediction = sample_prediction.sort_values(by = \"SecuritiesCode\", ascending=True)\n",
    "    sample_prediction.drop([\"Prediction\"],axis=1)\n",
    "    submission = sample_prediction[[\"Date\",\"SecuritiesCode\",\"Rank\"]]\n",
    "    ##display(submission)\n",
    "    print(\"Submitting:\", i)\n",
    "    env.predict(submission)\n",
    "%time"
   ]
  }
 ],
 "metadata": {
  "kernelspec": {
   "display_name": "Python 3 (ipykernel)",
   "language": "python",
   "name": "python3"
  },
  "language_info": {
   "codemirror_mode": {
    "name": "ipython",
    "version": 3
   },
   "file_extension": ".py",
   "mimetype": "text/x-python",
   "name": "python",
   "nbconvert_exporter": "python",
   "pygments_lexer": "ipython3",
   "version": "3.11.3"
  }
 },
 "nbformat": 4,
 "nbformat_minor": 4
}
